{
  "nbformat": 4,
  "nbformat_minor": 0,
  "metadata": {
    "colab": {
      "name": "Colab Example 1.ipynb",
      "provenance": [],
      "authorship_tag": "ABX9TyPYEAdDLD0l64KHL0nXc+yB",
      "include_colab_link": true
    },
    "kernelspec": {
      "name": "python3",
      "display_name": "Python 3"
    }
  },
  "cells": [
    {
      "cell_type": "markdown",
      "metadata": {
        "id": "view-in-github",
        "colab_type": "text"
      },
      "source": [
        "<a href=\"https://colab.research.google.com/github/CliffLewis/ProgrammingAssignment2/blob/master/Colab_Example_1.ipynb\" target=\"_parent\"><img src=\"https://colab.research.google.com/assets/colab-badge.svg\" alt=\"Open In Colab\"/></a>"
      ]
    },
    {
      "cell_type": "markdown",
      "metadata": {
        "id": "IIY92Uv2wLcm",
        "colab_type": "text"
      },
      "source": [
        "## Comment tile\n",
        "This is a comment for the following block.\n",
        "\n",
        "Equation $\\sqrt{1-x^2}$"
      ]
    },
    {
      "cell_type": "code",
      "metadata": {
        "id": "oGSjCwf1vskj",
        "colab_type": "code",
        "colab": {
          "base_uri": "https://localhost:8080/",
          "height": 35
        },
        "outputId": "1ce86193-039b-45ec-d10c-11bfb15f5fa4"
      },
      "source": [
        "textString = \"This is a altered text printout.\"\n",
        "print(textString)"
      ],
      "execution_count": 7,
      "outputs": [
        {
          "output_type": "stream",
          "text": [
            "This is a altered text printout.\n"
          ],
          "name": "stdout"
        }
      ]
    },
    {
      "cell_type": "markdown",
      "metadata": {
        "id": "3QN3Nrw-wX3E",
        "colab_type": "text"
      },
      "source": [
        "Second comment.\n"
      ]
    },
    {
      "cell_type": "code",
      "metadata": {
        "id": "EaZvyjAMxLGJ",
        "colab_type": "code",
        "colab": {
          "base_uri": "https://localhost:8080/",
          "height": 35
        },
        "outputId": "3d958ff4-f1af-480d-d562-aa4698e894ba"
      },
      "source": [
        "varString = \"Plus some other.\"\n",
        "print(textString + \" \" + varString)"
      ],
      "execution_count": 8,
      "outputs": [
        {
          "output_type": "stream",
          "text": [
            "This is a altered text printout. Plus some other.\n"
          ],
          "name": "stdout"
        }
      ]
    }
  ]
}